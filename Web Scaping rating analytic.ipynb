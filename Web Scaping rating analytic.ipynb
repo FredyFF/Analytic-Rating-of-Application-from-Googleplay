{
 "cells": [
  {
   "cell_type": "code",
   "execution_count": 1,
   "id": "8d1d9bbe-e991-43b0-a69a-10ab0c880de7",
   "metadata": {},
   "outputs": [],
   "source": [
    "# Import Library of google play Scarper\n",
    "\n",
    "from google_play_scraper import Sort, reviews\n",
    "from google_play_scraper import app\n",
    "import pandas as pd\n",
    "import numpy as np\n",
    "import datetime\n",
    "\n",
    "# using now() to get current time when Scraping is begin\n",
    "current_time = datetime.datetime.now()\n"
   ]
  },
  {
   "cell_type": "code",
   "execution_count": 2,
   "id": "b2a4d736-d207-4037-8e79-9674b893f4c5",
   "metadata": {},
   "outputs": [],
   "source": [
    "# Get Token from com.instagram.android\n",
    "\n",
    "result, continuation_token = reviews(\n",
    "    'com.instagram.android',\n",
    "    lang='id', #bahasa (Indonesia), language where review is issued\n",
    "    country='id', # Country where reviewer come from\n",
    "    sort=Sort.MOST_RELEVANT, #sorting the most relevant\n",
    "    count=2000, #count of dataset requested\n",
    "    filter_score_with= None  #filling with 1, 2, 3, 4, 5 None if tobe mixed\n",
    ")\n"
   ]
  },
  {
   "cell_type": "code",
   "execution_count": 3,
   "id": "b614d30b-49c1-486b-950c-33291e5962c6",
   "metadata": {},
   "outputs": [
    {
     "data": {
      "text/html": [
       "<div>\n",
       "<style scoped>\n",
       "    .dataframe tbody tr th:only-of-type {\n",
       "        vertical-align: middle;\n",
       "    }\n",
       "\n",
       "    .dataframe tbody tr th {\n",
       "        vertical-align: top;\n",
       "    }\n",
       "\n",
       "    .dataframe thead th {\n",
       "        text-align: right;\n",
       "    }\n",
       "</style>\n",
       "<table border=\"1\" class=\"dataframe\">\n",
       "  <thead>\n",
       "    <tr style=\"text-align: right;\">\n",
       "      <th></th>\n",
       "      <th>reviewId</th>\n",
       "      <th>userName</th>\n",
       "      <th>userImage</th>\n",
       "      <th>content</th>\n",
       "      <th>score</th>\n",
       "      <th>thumbsUpCount</th>\n",
       "      <th>reviewCreatedVersion</th>\n",
       "      <th>at</th>\n",
       "      <th>replyContent</th>\n",
       "      <th>repliedAt</th>\n",
       "      <th>appVersion</th>\n",
       "    </tr>\n",
       "  </thead>\n",
       "  <tbody>\n",
       "    <tr>\n",
       "      <th>0</th>\n",
       "      <td>6f4fe7d4-dd6a-4897-a5b9-936d8b6a69dd</td>\n",
       "      <td>Rayhan Claudio</td>\n",
       "      <td>https://play-lh.googleusercontent.com/a-/ALV-U...</td>\n",
       "      <td>Banyak bug nya dan sampe sekarang belum diperb...</td>\n",
       "      <td>1</td>\n",
       "      <td>7</td>\n",
       "      <td>185.0.0.38.116</td>\n",
       "      <td>2021-05-02 04:57:15</td>\n",
       "      <td>None</td>\n",
       "      <td>None</td>\n",
       "      <td>185.0.0.38.116</td>\n",
       "    </tr>\n",
       "    <tr>\n",
       "      <th>1</th>\n",
       "      <td>9c34f6f5-dcb6-45ec-9bae-43670b14fd42</td>\n",
       "      <td>fatiya elsa</td>\n",
       "      <td>https://play-lh.googleusercontent.com/a-/ALV-U...</td>\n",
       "      <td>Tolong bangett yaa, ini udah sering Instagram ...</td>\n",
       "      <td>2</td>\n",
       "      <td>4</td>\n",
       "      <td>341.0.0.45.100</td>\n",
       "      <td>2024-07-26 13:29:26</td>\n",
       "      <td>None</td>\n",
       "      <td>None</td>\n",
       "      <td>341.0.0.45.100</td>\n",
       "    </tr>\n",
       "    <tr>\n",
       "      <th>2</th>\n",
       "      <td>0bbb62b7-918d-49c3-a1ce-aa19dca67756</td>\n",
       "      <td>Alfionita</td>\n",
       "      <td>https://play-lh.googleusercontent.com/a/ACg8oc...</td>\n",
       "      <td>ini udah kejadian dari dulu si, tiap post stor...</td>\n",
       "      <td>2</td>\n",
       "      <td>909</td>\n",
       "      <td>333.0.0.42.91</td>\n",
       "      <td>2024-06-05 18:56:46</td>\n",
       "      <td>None</td>\n",
       "      <td>None</td>\n",
       "      <td>333.0.0.42.91</td>\n",
       "    </tr>\n",
       "    <tr>\n",
       "      <th>3</th>\n",
       "      <td>2583181e-9828-4edd-9a01-7d2312b6d3d4</td>\n",
       "      <td>Maura</td>\n",
       "      <td>https://play-lh.googleusercontent.com/a/ACg8oc...</td>\n",
       "      <td>makinn lamaa makinn sering bug yaa instagramm,...</td>\n",
       "      <td>1</td>\n",
       "      <td>159</td>\n",
       "      <td>341.0.0.45.100</td>\n",
       "      <td>2024-07-25 00:25:58</td>\n",
       "      <td>None</td>\n",
       "      <td>None</td>\n",
       "      <td>341.0.0.45.100</td>\n",
       "    </tr>\n",
       "    <tr>\n",
       "      <th>4</th>\n",
       "      <td>da8830e1-9fdb-4d8b-99dd-d3ea75a43dc1</td>\n",
       "      <td>One ST</td>\n",
       "      <td>https://play-lh.googleusercontent.com/a-/ALV-U...</td>\n",
       "      <td>Tolong diperbaiki dong bug suara yg dipostinga...</td>\n",
       "      <td>2</td>\n",
       "      <td>1374</td>\n",
       "      <td>339.0.0.30.105</td>\n",
       "      <td>2024-07-10 17:44:34</td>\n",
       "      <td>None</td>\n",
       "      <td>None</td>\n",
       "      <td>339.0.0.30.105</td>\n",
       "    </tr>\n",
       "  </tbody>\n",
       "</table>\n",
       "</div>"
      ],
      "text/plain": [
       "                               reviewId        userName  \\\n",
       "0  6f4fe7d4-dd6a-4897-a5b9-936d8b6a69dd  Rayhan Claudio   \n",
       "1  9c34f6f5-dcb6-45ec-9bae-43670b14fd42     fatiya elsa   \n",
       "2  0bbb62b7-918d-49c3-a1ce-aa19dca67756       Alfionita   \n",
       "3  2583181e-9828-4edd-9a01-7d2312b6d3d4           Maura   \n",
       "4  da8830e1-9fdb-4d8b-99dd-d3ea75a43dc1          One ST   \n",
       "\n",
       "                                           userImage  \\\n",
       "0  https://play-lh.googleusercontent.com/a-/ALV-U...   \n",
       "1  https://play-lh.googleusercontent.com/a-/ALV-U...   \n",
       "2  https://play-lh.googleusercontent.com/a/ACg8oc...   \n",
       "3  https://play-lh.googleusercontent.com/a/ACg8oc...   \n",
       "4  https://play-lh.googleusercontent.com/a-/ALV-U...   \n",
       "\n",
       "                                             content  score  thumbsUpCount  \\\n",
       "0  Banyak bug nya dan sampe sekarang belum diperb...      1              7   \n",
       "1  Tolong bangett yaa, ini udah sering Instagram ...      2              4   \n",
       "2  ini udah kejadian dari dulu si, tiap post stor...      2            909   \n",
       "3  makinn lamaa makinn sering bug yaa instagramm,...      1            159   \n",
       "4  Tolong diperbaiki dong bug suara yg dipostinga...      2           1374   \n",
       "\n",
       "  reviewCreatedVersion                  at replyContent repliedAt  \\\n",
       "0       185.0.0.38.116 2021-05-02 04:57:15         None      None   \n",
       "1       341.0.0.45.100 2024-07-26 13:29:26         None      None   \n",
       "2        333.0.0.42.91 2024-06-05 18:56:46         None      None   \n",
       "3       341.0.0.45.100 2024-07-25 00:25:58         None      None   \n",
       "4       339.0.0.30.105 2024-07-10 17:44:34         None      None   \n",
       "\n",
       "       appVersion  \n",
       "0  185.0.0.38.116  \n",
       "1  341.0.0.45.100  \n",
       "2   333.0.0.42.91  \n",
       "3  341.0.0.45.100  \n",
       "4  339.0.0.30.105  "
      ]
     },
     "execution_count": 3,
     "metadata": {},
     "output_type": "execute_result"
    }
   ],
   "source": [
    "# Dataframe With Name\n",
    "\n",
    "data = pd.DataFrame(np.array(result),columns=['review'])\n",
    "data = data.join(pd.DataFrame(data.pop('review').tolist()))\n",
    "data.head()"
   ]
  },
  {
   "cell_type": "code",
   "execution_count": 4,
   "id": "f9cbca13-576f-4a82-8d87-104b369cbbab",
   "metadata": {},
   "outputs": [
    {
     "data": {
      "text/plain": [
       "2000"
      ]
     },
     "execution_count": 4,
     "metadata": {},
     "output_type": "execute_result"
    }
   ],
   "source": [
    "#check length of dataset\n",
    "\n",
    "len(data)"
   ]
  },
  {
   "cell_type": "code",
   "execution_count": 5,
   "id": "833eb1b2-b088-4872-9578-9189093c5655",
   "metadata": {},
   "outputs": [
    {
     "data": {
      "text/html": [
       "<div>\n",
       "<style scoped>\n",
       "    .dataframe tbody tr th:only-of-type {\n",
       "        vertical-align: middle;\n",
       "    }\n",
       "\n",
       "    .dataframe tbody tr th {\n",
       "        vertical-align: top;\n",
       "    }\n",
       "\n",
       "    .dataframe thead th {\n",
       "        text-align: right;\n",
       "    }\n",
       "</style>\n",
       "<table border=\"1\" class=\"dataframe\">\n",
       "  <thead>\n",
       "    <tr style=\"text-align: right;\">\n",
       "      <th></th>\n",
       "      <th>content</th>\n",
       "      <th>score</th>\n",
       "    </tr>\n",
       "  </thead>\n",
       "  <tbody>\n",
       "    <tr>\n",
       "      <th>0</th>\n",
       "      <td>Banyak bug nya dan sampe sekarang belum diperb...</td>\n",
       "      <td>1</td>\n",
       "    </tr>\n",
       "    <tr>\n",
       "      <th>1</th>\n",
       "      <td>Tolong bangett yaa, ini udah sering Instagram ...</td>\n",
       "      <td>2</td>\n",
       "    </tr>\n",
       "    <tr>\n",
       "      <th>2</th>\n",
       "      <td>ini udah kejadian dari dulu si, tiap post stor...</td>\n",
       "      <td>2</td>\n",
       "    </tr>\n",
       "    <tr>\n",
       "      <th>3</th>\n",
       "      <td>makinn lamaa makinn sering bug yaa instagramm,...</td>\n",
       "      <td>1</td>\n",
       "    </tr>\n",
       "    <tr>\n",
       "      <th>4</th>\n",
       "      <td>Tolong diperbaiki dong bug suara yg dipostinga...</td>\n",
       "      <td>2</td>\n",
       "    </tr>\n",
       "  </tbody>\n",
       "</table>\n",
       "</div>"
      ],
      "text/plain": [
       "                                             content  score\n",
       "0  Banyak bug nya dan sampe sekarang belum diperb...      1\n",
       "1  Tolong bangett yaa, ini udah sering Instagram ...      2\n",
       "2  ini udah kejadian dari dulu si, tiap post stor...      2\n",
       "3  makinn lamaa makinn sering bug yaa instagramm,...      1\n",
       "4  Tolong diperbaiki dong bug suara yg dipostinga...      2"
      ]
     },
     "execution_count": 5,
     "metadata": {},
     "output_type": "execute_result"
    }
   ],
   "source": [
    "# use relevant column \n",
    "\n",
    "data = data[['content','score']]\n",
    "data.head()"
   ]
  },
  {
   "cell_type": "code",
   "execution_count": 6,
   "id": "0362b6ab-0970-416e-bc7c-5c228f7c7de6",
   "metadata": {},
   "outputs": [],
   "source": [
    "# export to csv \n",
    "\n",
    "data.to_csv(\"Data Review.csv\", index = False  , encoding='utf-8')"
   ]
  },
  {
   "cell_type": "code",
   "execution_count": 9,
   "id": "0c2e4d15-3172-40d9-89c6-98e13691014d",
   "metadata": {},
   "outputs": [
    {
     "name": "stderr",
     "output_type": "stream",
     "text": [
      "/var/folders/1l/sjk_h4hj1j3720m3fb2wbyqw0000gn/T/ipykernel_5956/2482152158.py:16: SettingWithCopyWarning: \n",
      "A value is trying to be set on a copy of a slice from a DataFrame\n",
      "\n",
      "See the caveats in the documentation: https://pandas.pydata.org/pandas-docs/stable/user_guide/indexing.html#returning-a-view-versus-a-copy\n",
      "  dataInstagram['score'][i] = 'Bad'\n"
     ]
    }
   ],
   "source": [
    "# Modify Rating to score analyst \n",
    "\n",
    "import pandas as pd\n",
    "\n",
    "dataInstagram = pd.read_csv('/Users/fredyfirmansyahit/Desktop/TRAINING DS/Data Review.csv')\n",
    "\n",
    "\n",
    "for i in range(len(dataInstagram ['score'])):\n",
    "    if dataInstagram ['score'][i] == 5:\n",
    "        dataInstagram['score'][i] = 'Very Good'\n",
    "    if dataInstagram ['score'][i] == 4:\n",
    "        dataInstagram['score'][i] = 'Like'\n",
    "    if dataInstagram['score'][i] == 3:\n",
    "        dataInstagram['score'][i] = 'Neutral'\n",
    "    if dataInstagram['score'][i] == 2:\n",
    "        dataInstagram['score'][i] = 'Not Good'\n",
    "    if dataInstagram['score'][i] == 1:\n",
    "        dataInstagram['score'][i] = 'Bad'\n",
    "\n",
    "dataInstagram.to_csv(\"Result Data Review.csv\", index = False  , encoding='utf-8')"
   ]
  },
  {
   "cell_type": "code",
   "execution_count": 11,
   "id": "a591b87b-29d8-428a-a502-daf224c1e746",
   "metadata": {},
   "outputs": [
    {
     "data": {
      "image/png": "[encoded data removed]",
      "text/plain": [
       "<Figure size 432x288 with 1 Axes>"
      ]
     },
     "metadata": {
      "needs_background": "light"
     },
     "output_type": "display_data"
    }
   ],
   "source": [
    "# Create Barplot visualization\n",
    "\n",
    "from matplotlib import pyplot as plt\n",
    "\n",
    "verg = (dataInstagram['score'] == 'Very Good').sum()\n",
    "like = (dataInstagram['score'] == 'Like').sum()\n",
    "Neu = (dataInstagram['score'] == 'Neutral').sum()\n",
    "notg = (dataInstagram['score'] == 'Not Good').sum()\n",
    "bad = (dataInstagram['score'] == 'Bad').sum()\n",
    "\n",
    "\n",
    "sen = ['Very Good', 'Like', 'Neutral', 'Not Good', 'Bad']\n",
    "\n",
    "data = [verg, like, Neu,notg,bad]\n",
    "\n",
    "plt.bar(sen, data, color ='blue', \n",
    "        width = 0.4)\n",
    "\n",
    "plt.xlabel(\"Sentimen Result\")\n",
    "plt.ylabel(\"No. of Rating Sentimen\")\n",
    "plt.title(\"Sentimen analysis Application of Instagram\")\n",
    "plt.show()"
   ]
  },
  {
   "cell_type": "code",
   "execution_count": 16,
   "id": "d967893d-34fe-41d8-a044-e638e019fdc7",
   "metadata": {},
   "outputs": [
    {
     "data": {
      "image/png": "[encoded data removed]",
      "text/plain": [
       "<Figure size 720x504 with 1 Axes>"
      ]
     },
     "metadata": {},
     "output_type": "display_data"
    }
   ],
   "source": [
    "#Create Pie Chart precentage\n",
    "\n",
    "sen = ['Very Good', 'Like', 'Neutral', 'Not Good', 'Bad']\n",
    "\n",
    "data = [verg, like, Neu,notg,bad]\n",
    "\n",
    "# Creating plot\n",
    "fig = plt.figure(figsize=(10, 7))\n",
    "plt.pie(data, labels=sen, autopct='%1.1f%%')\n",
    "\n",
    "# show plot\n",
    "plt.show()"
   ]
  },
  {
   "cell_type": "code",
   "execution_count": 17,
   "id": "ae78113c-0cc5-45b4-854f-1f6e9fe49ff2",
   "metadata": {},
   "outputs": [
    {
     "name": "stdout",
     "output_type": "stream",
     "text": [
      "Rating :  2.5775\n",
      "Count Data :  2000\n",
      "Scraping Time execution :  2024-08-23 17:05:48.003911\n"
     ]
    }
   ],
   "source": [
    "# Conclusion\n",
    "\n",
    "import pandas as pd\n",
    "\n",
    "dataInstagram = pd.read_csv('/Users/fredyfirmansyahit/Desktop/TRAINING DS/Data Review.csv')\n",
    "avg = (dataInstagram['score']).mean()\n",
    "\n",
    "print('Rating : ', avg)\n",
    "print('Count Data : ', len(dataInstagram['score']))\n",
    "print('Scraping Time execution : ', current_time )\n"
   ]
  },
  {
   "cell_type": "code",
   "execution_count": null,
   "id": "3954ba99-fb61-4633-8913-b910ab813ec1",
   "metadata": {},
   "outputs": [],
   "source": []
  }
 ],
 "metadata": {
  "kernelspec": {
   "display_name": "Python 3 (ipykernel)",
   "language": "python",
   "name": "python3"
  },
  "language_info": {
   "codemirror_mode": {
    "name": "ipython",
    "version": 3
   },
   "file_extension": ".py",
   "mimetype": "text/x-python",
   "name": "python",
   "nbconvert_exporter": "python",
   "pygments_lexer": "ipython3",
   "version": "3.9.7"
  }
 },
 "nbformat": 4,
 "nbformat_minor": 5
}
